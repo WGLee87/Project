{
 "cells": [
  {
   "cell_type": "code",
   "execution_count": 2,
   "metadata": {},
   "outputs": [
    {
     "data": {
      "text/html": [
       "<div>\n",
       "<style scoped>\n",
       "    .dataframe tbody tr th:only-of-type {\n",
       "        vertical-align: middle;\n",
       "    }\n",
       "\n",
       "    .dataframe tbody tr th {\n",
       "        vertical-align: top;\n",
       "    }\n",
       "\n",
       "    .dataframe thead th {\n",
       "        text-align: right;\n",
       "    }\n",
       "</style>\n",
       "<table border=\"1\" class=\"dataframe\">\n",
       "  <thead>\n",
       "    <tr style=\"text-align: right;\">\n",
       "      <th></th>\n",
       "      <th>player_name</th>\n",
       "      <th>position</th>\n",
       "      <th>age</th>\n",
       "      <th>height</th>\n",
       "      <th>weight</th>\n",
       "      <th>rating</th>\n",
       "      <th>value</th>\n",
       "      <th>follower</th>\n",
       "      <th>shots_total</th>\n",
       "      <th>shots_on</th>\n",
       "      <th>...</th>\n",
       "      <th>penalty_commited</th>\n",
       "      <th>penalty_success</th>\n",
       "      <th>penalty_missed</th>\n",
       "      <th>penalty_saved</th>\n",
       "      <th>games_appearences</th>\n",
       "      <th>games_lineups</th>\n",
       "      <th>substitutes_in</th>\n",
       "      <th>substitutes_out</th>\n",
       "      <th>substitutes_bench</th>\n",
       "      <th>games_played</th>\n",
       "    </tr>\n",
       "  </thead>\n",
       "  <tbody>\n",
       "    <tr>\n",
       "      <th>370</th>\n",
       "      <td>Y. Poulsen</td>\n",
       "      <td>4.0</td>\n",
       "      <td>26.0</td>\n",
       "      <td>192.0</td>\n",
       "      <td>84.0</td>\n",
       "      <td>6.54545</td>\n",
       "      <td>24.0</td>\n",
       "      <td>109000</td>\n",
       "      <td>2.0141</td>\n",
       "      <td>0.7524</td>\n",
       "      <td>...</td>\n",
       "      <td>0.0</td>\n",
       "      <td>0.0116</td>\n",
       "      <td>0.0</td>\n",
       "      <td>0.0</td>\n",
       "      <td>1.4006</td>\n",
       "      <td>0.9492</td>\n",
       "      <td>0.4514</td>\n",
       "      <td>0.2894</td>\n",
       "      <td>0.5788</td>\n",
       "      <td>86.3889</td>\n",
       "    </tr>\n",
       "    <tr>\n",
       "      <th>371</th>\n",
       "      <td>Y. Tielemans</td>\n",
       "      <td>2.0</td>\n",
       "      <td>23.0</td>\n",
       "      <td>176.0</td>\n",
       "      <td>72.0</td>\n",
       "      <td>4.38462</td>\n",
       "      <td>44.0</td>\n",
       "      <td>282254</td>\n",
       "      <td>1.6977</td>\n",
       "      <td>0.6011</td>\n",
       "      <td>...</td>\n",
       "      <td>0.0</td>\n",
       "      <td>0.0105</td>\n",
       "      <td>0.0</td>\n",
       "      <td>0.0</td>\n",
       "      <td>1.2021</td>\n",
       "      <td>1.0334</td>\n",
       "      <td>0.1687</td>\n",
       "      <td>0.3058</td>\n",
       "      <td>0.2636</td>\n",
       "      <td>94.8333</td>\n",
       "    </tr>\n",
       "  </tbody>\n",
       "</table>\n",
       "<p>2 rows × 39 columns</p>\n",
       "</div>"
      ],
      "text/plain": [
       "      player_name  position   age  height  weight   rating  value  follower  \\\n",
       "370    Y. Poulsen       4.0  26.0   192.0    84.0  6.54545   24.0    109000   \n",
       "371  Y. Tielemans       2.0  23.0   176.0    72.0  4.38462   44.0    282254   \n",
       "\n",
       "     shots_total  shots_on  ...  penalty_commited  penalty_success  \\\n",
       "370       2.0141    0.7524  ...               0.0           0.0116   \n",
       "371       1.6977    0.6011  ...               0.0           0.0105   \n",
       "\n",
       "     penalty_missed  penalty_saved  games_appearences  games_lineups  \\\n",
       "370             0.0            0.0             1.4006         0.9492   \n",
       "371             0.0            0.0             1.2021         1.0334   \n",
       "\n",
       "     substitutes_in  substitutes_out  substitutes_bench  games_played  \n",
       "370          0.4514           0.2894             0.5788       86.3889  \n",
       "371          0.1687           0.3058             0.2636       94.8333  \n",
       "\n",
       "[2 rows x 39 columns]"
      ]
     },
     "execution_count": 2,
     "metadata": {},
     "output_type": "execute_result"
    }
   ],
   "source": [
    "from sqlalchemy import create_engine\n",
    "import pymysql\n",
    "\n",
    "db_connection_str = 'mysql+pymysql://<your_account>:<your_password>@<your_ip>/ML_data'\n",
    "db_connection = create_engine(db_connection_str)\n",
    "\n",
    "df = pd.read_sql('SELECT * FROM datas', con=db_connection)\n",
    "df = df.set_index('player_name')\n",
    "\n",
    "df.tail(2)"
   ]
  },
  {
   "cell_type": "code",
   "execution_count": 3,
   "metadata": {},
   "outputs": [],
   "source": [
    "pd.options.display.max_columns = len(df.columns)"
   ]
  },
  {
   "cell_type": "code",
   "execution_count": 5,
   "metadata": {},
   "outputs": [],
   "source": [
    "df_nofollower = df.drop(columns=['follower'])"
   ]
  },
  {
   "cell_type": "markdown",
   "metadata": {},
   "source": [
    "###### follower X"
   ]
  },
  {
   "cell_type": "code",
   "execution_count": 35,
   "metadata": {},
   "outputs": [
    {
     "name": "stdout",
     "output_type": "stream",
     "text": [
      "C : 25 | 모델 성능 : Metrics R2 = 0.21188564256843515, R2 Score = -0.025311679858706203, mse = 363.7421982771533\n",
      "C : 30 | 모델 성능 : Metrics R2 = 0.21281260001029353, R2 Score = -0.026653550263462757, mse = 360.1202409293146\n",
      "C : 35 | 모델 성능 : Metrics R2 = 0.2105824664321178, R2 Score = -0.028751244852347646, mse = 358.38548842124476\n",
      "C : 40 | 모델 성능 : Metrics R2 = 0.20695945371456897, R2 Score = -0.03333552753326331, mse = 357.9595886416969\n",
      "C : 45 | 모델 성능 : Metrics R2 = 0.20315090316614892, R2 Score = -0.03906036527294965, mse = 357.81915525629347\n",
      "C : 50 | 모델 성능 : Metrics R2 = 0.19776180432785465, R2 Score = -0.04526764468149774, mse = 358.2623755611668\n",
      "C : 55 | 모델 성능 : Metrics R2 = 0.1900688309266746, R2 Score = -0.05174689166306286, mse = 359.64893836313047\n",
      "C : 60 | 모델 성능 : Metrics R2 = 0.18141850547330493, R2 Score = -0.05665177023115218, mse = 361.26452920245293\n",
      "C : 65 | 모델 성능 : Metrics R2 = 0.1722531701693343, R2 Score = -0.061761547558784845, mse = 363.12531917033186\n",
      "C : 70 | 모델 성능 : Metrics R2 = 0.16276023279983867, R2 Score = -0.06701439013285328, mse = 365.13475392129806\n",
      "C : 75 | 모델 성능 : Metrics R2 = 0.15401380126349745, R2 Score = -0.07261345064979315, mse = 367.0459596350887\n",
      "C : 80 | 모델 성능 : Metrics R2 = 0.14580865686329228, R2 Score = -0.0773046493845929, mse = 368.89812080054764\n",
      "C : 85 | 모델 성능 : Metrics R2 = 0.13784571535956183, R2 Score = -0.08054361732568807, mse = 370.7654483251106\n",
      "C : 90 | 모델 성능 : Metrics R2 = 0.12989954199790463, R2 Score = -0.08359301663492004, mse = 372.684253116995\n",
      "C : 95 | 모델 성능 : Metrics R2 = 0.12132345158042564, R2 Score = -0.08685541754930472, mse = 374.8019366206286\n",
      "C : 100 | 모델 성능 : Metrics R2 = 0.11299565489462335, R2 Score = -0.09082141175232902, mse = 376.82438364441856\n",
      "C : 105 | 모델 성능 : Metrics R2 = 0.10447791071337145, R2 Score = -0.09501189563964305, mse = 378.87222988877505\n",
      "C : 110 | 모델 성능 : Metrics R2 = 0.09669686107335299, R2 Score = -0.0994395293576577, mse = 380.7083115071844\n",
      "C : 115 | 모델 성능 : Metrics R2 = 0.0897853751321122, R2 Score = -0.1043298598027047, mse = 382.2676083411285\n",
      "C : 120 | 모델 성능 : Metrics R2 = 0.08300409749043779, R2 Score = -0.10969320342872017, mse = 383.7633205405867\n",
      "C : 125 | 모델 성능 : Metrics R2 = 0.07665040255218411, R2 Score = -0.11505133703259626, mse = 385.1507632931375\n",
      "C : 130 | 모델 성능 : Metrics R2 = 0.07068797247185868, R2 Score = -0.12008226774959119, mse = 386.46819689084447\n",
      "C : 135 | 모델 성능 : Metrics R2 = 0.06472648402385137, R2 Score = -0.12500361949103075, mse = 387.8464973816496\n",
      "C : 140 | 모델 성능 : Metrics R2 = 0.05920063125292756, R2 Score = -0.13008304577306817, mse = 389.1802972429708\n",
      "C : 145 | 모델 성능 : Metrics R2 = 0.053763221203114234, R2 Score = -0.13482998453869946, mse = 390.5649939035714\n",
      "C : 150 | 모델 성능 : Metrics R2 = 0.048277606950796394, R2 Score = -0.1393888476835539, mse = 391.99213013251915\n",
      "C : 155 | 모델 성능 : Metrics R2 = 0.042475363501563265, R2 Score = -0.14404636991303194, mse = 393.62406926637067\n",
      "C : 160 | 모델 성능 : Metrics R2 = 0.03672594481252265, R2 Score = -0.14863228713951743, mse = 395.30021073354436\n",
      "C : 165 | 모델 성능 : Metrics R2 = 0.03151293151342492, R2 Score = -0.15317819507412853, mse = 396.8126500663177\n",
      "C : 170 | 모델 성능 : Metrics R2 = 0.026439934951303923, R2 Score = -0.15739438117824414, mse = 398.3041287458147\n",
      "C : 175 | 모델 성능 : Metrics R2 = 0.02141333223572376, R2 Score = -0.16135833293329055, mse = 399.8127506655047\n",
      "C : 180 | 모델 성능 : Metrics R2 = 0.016760157502490027, R2 Score = -0.16528937285962658, mse = 401.2462512729748\n",
      "C : 185 | 모델 성능 : Metrics R2 = 0.012888884654522615, R2 Score = -0.16911421072514354, mse = 402.4418414360401\n",
      "C : 190 | 모델 성능 : Metrics R2 = 0.00931389933343374, R2 Score = -0.1729321461169561, mse = 403.5827807404972\n",
      "C : 195 | 모델 성능 : Metrics R2 = 0.005743627542410812, R2 Score = -0.17636690444449088, mse = 404.71467182709966\n"
     ]
    }
   ],
   "source": [
    "from sklearn.model_selection import KFold\n",
    "from sklearn.metrics import mean_squared_error, r2_score\n",
    "from sklearn.preprocessing import StandardScaler\n",
    "from sklearn.svm import SVR\n",
    "\n",
    "z = 10\n",
    "cVal = list(range(25, 200, 5))\n",
    "scores_rm = np.zeros([len(cVal), 3, z])\n",
    "num = 0\n",
    "mseListNf = []\n",
    "\n",
    "cv = KFold(z, shuffle=True, random_state=0)\n",
    "for c in cVal:\n",
    "    for i, (idx_train, idx_test) in enumerate(cv.split(df_nofollower)):\n",
    "        \n",
    "        df_train = df_nofollower.iloc[idx_train]\n",
    "        df_test = df_nofollower.iloc[idx_test]\n",
    "\n",
    "        X_train = df_train.drop('value', axis=1).astype(float)\n",
    "        X_train = StandardScaler().fit_transform(X_train)\n",
    "        y_train = df_train['value']\n",
    "\n",
    "        model = SVR(kernel=\"rbf\", C=c)\n",
    "        result = model.fit(X_train, y_train)\n",
    "\n",
    "\n",
    "        pred = result.predict(StandardScaler().fit_transform(df_test.drop('value', axis=1)))\n",
    "        rsquared = r2_score(df_test.value, pred)\n",
    "        mse = mean_squared_error(df_test.value, pred)\n",
    "        \n",
    "        scores_rm[num, 0, i] = rsquared\n",
    "        scores_rm[num, 1, i] = mse\n",
    "        scores_rm[num, 2, i] = model.score(df_test.drop(\"value\", axis=1), df_test['value'])\n",
    "\n",
    "#         print(\"R2 = {:.8f}\".format(rsquared))\n",
    "#         print(\"R2 Score = {:.8f}\".format(scores_rm[2, i]))\n",
    "#         print(\"mse = {:.8f}\".format(mse))\n",
    "\n",
    "    print(\"C : {} | 모델 성능 : Metrics R2 = {}, R2 Score = {}, mse = {}\".format(c, scores_rm[num, 0].mean(), scores_rm[num, 2].mean(), scores_rm[num, 1].mean()))\n",
    "    mseListNf.append(scores_rm[num, 1].mean())\n",
    "    num += 1"
   ]
  },
  {
   "cell_type": "markdown",
   "metadata": {},
   "source": [
    "###### follower O"
   ]
  },
  {
   "cell_type": "code",
   "execution_count": 36,
   "metadata": {},
   "outputs": [
    {
     "name": "stdout",
     "output_type": "stream",
     "text": [
      "C : 25 | 모델 성능 : Metrics R2 = 0.26587555680180663, R2 Score = -0.0269792209103052, mse = 341.0936651210733\n",
      "C : 30 | 모델 성능 : Metrics R2 = 0.26650492851201146, R2 Score = -0.03394557297683846, mse = 337.5282295507243\n",
      "C : 35 | 모델 성능 : Metrics R2 = 0.265911304060647, R2 Score = -0.04159893744913579, mse = 334.8104455111056\n",
      "C : 40 | 모델 성능 : Metrics R2 = 0.2633923508683554, R2 Score = -0.05131528186050953, mse = 333.2206821969524\n",
      "C : 45 | 모델 성능 : Metrics R2 = 0.2588594050659346, R2 Score = -0.06253960228050646, mse = 332.61972747347613\n",
      "C : 50 | 모델 성능 : Metrics R2 = 0.25220827184031813, R2 Score = -0.07409305374847952, mse = 333.2845564324345\n",
      "C : 55 | 모델 성능 : Metrics R2 = 0.24302863979869627, R2 Score = -0.08661523277190722, mse = 335.0498136392549\n",
      "C : 60 | 모델 성능 : Metrics R2 = 0.23361962928082697, R2 Score = -0.09595932208731234, mse = 336.9168493188703\n",
      "C : 65 | 모델 성능 : Metrics R2 = 0.22384817202014134, R2 Score = -0.10493073885699804, mse = 338.9052204498897\n",
      "C : 70 | 모델 성능 : Metrics R2 = 0.21284669262569236, R2 Score = -0.1138677652524894, mse = 341.3947380187449\n",
      "C : 75 | 모델 성능 : Metrics R2 = 0.2026378613704793, R2 Score = -0.11985222759845637, mse = 343.68891594516043\n",
      "C : 80 | 모델 성능 : Metrics R2 = 0.19527198869494342, R2 Score = -0.12317529558134103, mse = 345.1385285637532\n",
      "C : 85 | 모델 성능 : Metrics R2 = 0.18864599178364755, R2 Score = -0.1268428461577241, mse = 346.3468594100009\n",
      "C : 90 | 모델 성능 : Metrics R2 = 0.18215101469442638, R2 Score = -0.13075277162888732, mse = 347.6529963100351\n",
      "C : 95 | 모델 성능 : Metrics R2 = 0.17538962503497707, R2 Score = -0.13448140218405807, mse = 349.12056855088457\n",
      "C : 100 | 모델 성능 : Metrics R2 = 0.16842550773044018, R2 Score = -0.13846458160894407, mse = 350.7520763506197\n",
      "C : 105 | 모델 성능 : Metrics R2 = 0.16159178192682372, R2 Score = -0.1431902580261754, mse = 352.46037895917937\n",
      "C : 110 | 모델 성능 : Metrics R2 = 0.1551225240675201, R2 Score = -0.1479743678583061, mse = 354.05660031581584\n",
      "C : 115 | 모델 성능 : Metrics R2 = 0.14823885793634678, R2 Score = -0.15291983074291982, mse = 355.91292827584846\n",
      "C : 120 | 모델 성능 : Metrics R2 = 0.1415106817300534, R2 Score = -0.15850485493879296, mse = 357.78485190863705\n",
      "C : 125 | 모델 성능 : Metrics R2 = 0.13530083377872043, R2 Score = -0.16427923458590507, mse = 359.541776610815\n",
      "C : 130 | 모델 성능 : Metrics R2 = 0.13007204734761807, R2 Score = -0.1700809003243095, mse = 360.9581555345584\n",
      "C : 135 | 모델 성능 : Metrics R2 = 0.12541725459692862, R2 Score = -0.17572931088294774, mse = 362.167032748653\n",
      "C : 140 | 모델 성능 : Metrics R2 = 0.12096427225047157, R2 Score = -0.181476201873275, mse = 363.3380099668551\n",
      "C : 145 | 모델 성능 : Metrics R2 = 0.11697835527196969, R2 Score = -0.18688987054320216, mse = 364.387041418334\n",
      "C : 150 | 모델 성능 : Metrics R2 = 0.11354458247630506, R2 Score = -0.19128263331505754, mse = 365.28618149307806\n",
      "C : 155 | 모델 성능 : Metrics R2 = 0.11016552170614476, R2 Score = -0.19549881546179892, mse = 366.16748728342645\n",
      "C : 160 | 모델 성능 : Metrics R2 = 0.10673167193402375, R2 Score = -0.19835907816251816, mse = 367.0304667206917\n",
      "C : 165 | 모델 성능 : Metrics R2 = 0.10337788747870214, R2 Score = -0.20085189706557718, mse = 367.88497974092815\n",
      "C : 170 | 모델 성능 : Metrics R2 = 0.10008222142266492, R2 Score = -0.2029825109871853, mse = 368.7516804102432\n",
      "C : 175 | 모델 성능 : Metrics R2 = 0.09687947911224784, R2 Score = -0.20455106073857648, mse = 369.6562221772561\n",
      "C : 180 | 모델 성능 : Metrics R2 = 0.0939086173951271, R2 Score = -0.20595391079884534, mse = 370.5967995488083\n",
      "C : 185 | 모델 성능 : Metrics R2 = 0.09124819316190144, R2 Score = -0.20721398083546821, mse = 371.4341137787204\n",
      "C : 190 | 모델 성능 : Metrics R2 = 0.08879136004014566, R2 Score = -0.20808793591220978, mse = 372.18366793709015\n",
      "C : 195 | 모델 성능 : Metrics R2 = 0.08652380016841245, R2 Score = -0.2089900778947742, mse = 372.870039548843\n"
     ]
    }
   ],
   "source": [
    "from sklearn.model_selection import KFold\n",
    "from sklearn.metrics import mean_squared_error, r2_score\n",
    "from sklearn.preprocessing import StandardScaler\n",
    "from sklearn.svm import SVR\n",
    "\n",
    "z = 10\n",
    "cVal = list(range(25, 200, 5))\n",
    "scores_rm = np.zeros([len(cVal), 3, z])\n",
    "num = 0\n",
    "mseList = []\n",
    "\n",
    "cv = KFold(z, shuffle=True, random_state=0)\n",
    "for c in cVal:\n",
    "    for i, (idx_train, idx_test) in enumerate(cv.split(df)):\n",
    "        \n",
    "        df_train = df.iloc[idx_train]\n",
    "        df_test = df.iloc[idx_test]\n",
    "\n",
    "        X_train = df_train.drop('value', axis=1).astype(float)\n",
    "        X_train = StandardScaler().fit_transform(X_train)\n",
    "        y_train = df_train['value']\n",
    "\n",
    "        model = SVR(kernel=\"rbf\", C=c)\n",
    "        result = model.fit(X_train, y_train)\n",
    "\n",
    "\n",
    "        pred = result.predict(StandardScaler().fit_transform(df_test.drop('value', axis=1)))\n",
    "        rsquared = r2_score(df_test.value, pred)\n",
    "        mse = mean_squared_error(df_test.value, pred)\n",
    "        \n",
    "        scores_rm[num, 0, i] = rsquared\n",
    "        scores_rm[num, 1, i] = mse\n",
    "        scores_rm[num, 2, i] = model.score(df_test.drop(\"value\", axis=1), df_test['value'])\n",
    "\n",
    "    #     print(\"R2 = {:.8f}\".format(rsquared))\n",
    "    #     print(\"R2 Score = {:.8f}\".format(scores_rm[2, i]))\n",
    "    #     print(\"mse = {:.8f}\".format(mse))\n",
    "\n",
    "    print(\"C : {} | 모델 성능 : Metrics R2 = {}, R2 Score = {}, mse = {}\".format(c, scores_rm[num, 0].mean(), scores_rm[num, 2].mean(), scores_rm[num, 1].mean()))\n",
    "    mseList.append(scores_rm[num, 1].mean())\n",
    "    num += 1"
   ]
  },
  {
   "cell_type": "code",
   "execution_count": 10,
   "metadata": {},
   "outputs": [
    {
     "name": "stderr",
     "output_type": "stream",
     "text": [
      "/opt/anaconda3/lib/python3.7/site-packages/ipykernel_launcher.py:3: UserWarning: Matplotlib is currently using module://ipykernel.pylab.backend_inline, which is a non-GUI backend, so cannot show the figure.\n",
      "  This is separate from the ipykernel package so we can avoid doing imports until\n"
     ]
    },
    {
     "data": {
      "image/png": "[encoded data removed]",
      "text/plain": [
       "<Figure size 432x288 with 1 Axes>"
      ]
     },
     "metadata": {
      "image/png": {
       "height": 281,
       "width": 395
      }
     },
     "output_type": "display_data"
    }
   ],
   "source": [
    "cVal = list(range(25, 200, 5))\n",
    "fig = plt.figure()\n",
    "fig.show()\n",
    "ax = fig.add_subplot(111)\n",
    "\n",
    "ax.plot(cVal, mseListNf, color='blue', label='No Follower')\n",
    "ax.plot(cVal, mseList, color='red', label='Follower')\n",
    "plt.legend(loc='upper right')\n",
    "plt.title('Support Vector Regressor (Gaussian) with and without Follower')\n",
    "plt.xlabel('C Value')\n",
    "plt.ylabel('Mean Squared Error')\n",
    "plt.draw()"
   ]
  },
  {
   "cell_type": "code",
   "execution_count": 30,
   "metadata": {
    "collapsed": true
   },
   "outputs": [
    {
     "data": {
      "text/plain": [
       "[363.7421982771533,\n",
       " 360.1202409293146,\n",
       " 358.38548842124476,\n",
       " 357.9595886416969,\n",
       " 357.81915525629347,\n",
       " 358.2623755611668,\n",
       " 359.64893836313047,\n",
       " 361.26452920245293,\n",
       " 363.12531917033186,\n",
       " 365.13475392129806,\n",
       " 367.0459596350887,\n",
       " 368.89812080054764,\n",
       " 370.7654483251106,\n",
       " 372.684253116995,\n",
       " 374.8019366206286,\n",
       " 376.82438364441856,\n",
       " 378.87222988877505,\n",
       " 380.7083115071844,\n",
       " 382.2676083411285,\n",
       " 383.7633205405867,\n",
       " 385.1507632931375,\n",
       " 386.46819689084447,\n",
       " 387.8464973816496,\n",
       " 389.1802972429708,\n",
       " 390.5649939035714,\n",
       " 391.99213013251915,\n",
       " 393.62406926637067,\n",
       " 395.30021073354436,\n",
       " 396.8126500663177,\n",
       " 398.3041287458147,\n",
       " 399.8127506655047,\n",
       " 401.2462512729748,\n",
       " 402.4418414360401,\n",
       " 403.5827807404972,\n",
       " 404.71467182709966]"
      ]
     },
     "execution_count": 30,
     "metadata": {},
     "output_type": "execute_result"
    }
   ],
   "source": [
    "mseListNf"
   ]
  },
  {
   "cell_type": "code",
   "execution_count": 31,
   "metadata": {
    "collapsed": true
   },
   "outputs": [
    {
     "data": {
      "text/plain": [
       "[341.0936651210733,\n",
       " 337.5282295507243,\n",
       " 334.8104455111056,\n",
       " 333.2206821969524,\n",
       " 332.61972747347613,\n",
       " 333.2845564324345,\n",
       " 335.0498136392549,\n",
       " 336.9168493188703,\n",
       " 338.9052204498897,\n",
       " 341.3947380187449,\n",
       " 343.68891594516043,\n",
       " 345.1385285637532,\n",
       " 346.3468594100009,\n",
       " 347.6529963100351,\n",
       " 349.12056855088457,\n",
       " 350.7520763506197,\n",
       " 352.46037895917937,\n",
       " 354.05660031581584,\n",
       " 355.91292827584846,\n",
       " 357.78485190863705,\n",
       " 359.541776610815,\n",
       " 360.9581555345584,\n",
       " 362.167032748653,\n",
       " 363.3380099668551,\n",
       " 364.387041418334,\n",
       " 365.28618149307806,\n",
       " 366.16748728342645,\n",
       " 367.0304667206917,\n",
       " 367.88497974092815,\n",
       " 368.7516804102432,\n",
       " 369.6562221772561,\n",
       " 370.5967995488083,\n",
       " 371.4341137787204,\n",
       " 372.18366793709015,\n",
       " 372.870039548843]"
      ]
     },
     "execution_count": 31,
     "metadata": {},
     "output_type": "execute_result"
    }
   ],
   "source": [
    "mseList"
   ]
  },
  {
   "cell_type": "code",
   "execution_count": null,
   "metadata": {},
   "outputs": [],
   "source": []
  }
 ],
 "metadata": {
  "kernelspec": {
   "display_name": "Python 3",
   "language": "python",
   "name": "python3"
  },
  "language_info": {
   "codemirror_mode": {
    "name": "ipython",
    "version": 3
   },
   "file_extension": ".py",
   "mimetype": "text/x-python",
   "name": "python",
   "nbconvert_exporter": "python",
   "pygments_lexer": "ipython3",
   "version": "3.7.4"
  }
 },
 "nbformat": 4,
 "nbformat_minor": 4
}
